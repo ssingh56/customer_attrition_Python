{
 "cells": [
  {
   "cell_type": "code",
   "execution_count": 168,
   "metadata": {},
   "outputs": [],
   "source": [
    "import pandas as pd"
   ]
  },
  {
   "cell_type": "code",
   "execution_count": 169,
   "metadata": {},
   "outputs": [],
   "source": [
    "import numpy as np"
   ]
  },
  {
   "cell_type": "code",
   "execution_count": 170,
   "metadata": {},
   "outputs": [],
   "source": [
    "import json"
   ]
  },
  {
   "cell_type": "code",
   "execution_count": 171,
   "metadata": {},
   "outputs": [],
   "source": [
    "import seaborn as sns"
   ]
  },
  {
   "cell_type": "code",
   "execution_count": 172,
   "metadata": {},
   "outputs": [],
   "source": [
    "import matplotlib.pyplot as plt"
   ]
  },
  {
   "cell_type": "code",
   "execution_count": 173,
   "metadata": {},
   "outputs": [],
   "source": [
    "from sklearn.ensemble import RandomForestClassifier"
   ]
  },
  {
   "cell_type": "code",
   "execution_count": 174,
   "metadata": {},
   "outputs": [],
   "source": [
    "from sklearn.model_selection import train_test_split"
   ]
  },
  {
   "cell_type": "code",
   "execution_count": 175,
   "metadata": {},
   "outputs": [],
   "source": [
    "from sklearn.metrics import accuracy_score, f1_score, precision_score, recall_score, classification_report, confusion_matrix"
   ]
  },
  {
   "cell_type": "code",
   "execution_count": 176,
   "metadata": {},
   "outputs": [],
   "source": [
    "from sklearn.svm import SVC"
   ]
  },
  {
   "cell_type": "code",
   "execution_count": 177,
   "metadata": {},
   "outputs": [],
   "source": [
    "from sklearn.metrics import roc_auc_score"
   ]
  },
  {
   "cell_type": "code",
   "execution_count": 178,
   "metadata": {},
   "outputs": [],
   "source": [
    "from sklearn.metrics import roc_curve, auc"
   ]
  },
  {
   "cell_type": "code",
   "execution_count": 179,
   "metadata": {},
   "outputs": [],
   "source": [
    "import sklearn.metrics as metrics\n"
   ]
  },
  {
   "cell_type": "code",
   "execution_count": 180,
   "metadata": {},
   "outputs": [],
   "source": [
    "df_train=pd.read_json(\"fall2019-survey-M03.json\")"
   ]
  },
  {
   "cell_type": "code",
   "execution_count": 181,
   "metadata": {},
   "outputs": [
    {
     "data": {
      "text/html": [
       "<div>\n",
       "<style scoped>\n",
       "    .dataframe tbody tr th:only-of-type {\n",
       "        vertical-align: middle;\n",
       "    }\n",
       "\n",
       "    .dataframe tbody tr th {\n",
       "        vertical-align: top;\n",
       "    }\n",
       "\n",
       "    .dataframe thead th {\n",
       "        text-align: right;\n",
       "    }\n",
       "</style>\n",
       "<table border=\"1\" class=\"dataframe\">\n",
       "  <thead>\n",
       "    <tr style=\"text-align: right;\">\n",
       "      <th></th>\n",
       "      <th>Destination.City</th>\n",
       "      <th>Origin.City</th>\n",
       "      <th>Airline.Status</th>\n",
       "      <th>Age</th>\n",
       "      <th>Gender</th>\n",
       "      <th>Price.Sensitivity</th>\n",
       "      <th>Year.of.First.Flight</th>\n",
       "      <th>Flights.Per.Year</th>\n",
       "      <th>Loyalty</th>\n",
       "      <th>Type.of.Travel</th>\n",
       "      <th>...</th>\n",
       "      <th>Arrival.Delay.in.Minutes</th>\n",
       "      <th>Flight.cancelled</th>\n",
       "      <th>Flight.time.in.minutes</th>\n",
       "      <th>Flight.Distance</th>\n",
       "      <th>Likelihood.to.recommend</th>\n",
       "      <th>olong</th>\n",
       "      <th>olat</th>\n",
       "      <th>dlong</th>\n",
       "      <th>dlat</th>\n",
       "      <th>freeText</th>\n",
       "    </tr>\n",
       "  </thead>\n",
       "  <tbody>\n",
       "    <tr>\n",
       "      <td>0</td>\n",
       "      <td>Houston, TX</td>\n",
       "      <td>Minneapolis, MN</td>\n",
       "      <td>Blue</td>\n",
       "      <td>66</td>\n",
       "      <td>Female</td>\n",
       "      <td>1</td>\n",
       "      <td>2009</td>\n",
       "      <td>15</td>\n",
       "      <td>-0.3043</td>\n",
       "      <td>Business travel</td>\n",
       "      <td>...</td>\n",
       "      <td>0.0</td>\n",
       "      <td>No</td>\n",
       "      <td>142.0</td>\n",
       "      <td>1034</td>\n",
       "      <td>5.0</td>\n",
       "      <td>-93.2798</td>\n",
       "      <td>44.9782</td>\n",
       "      <td>-95.3935</td>\n",
       "      <td>29.7843</td>\n",
       "      <td>NaN</td>\n",
       "    </tr>\n",
       "    <tr>\n",
       "      <td>1</td>\n",
       "      <td>Providence, RI</td>\n",
       "      <td>Chicago, IL</td>\n",
       "      <td>Blue</td>\n",
       "      <td>47</td>\n",
       "      <td>Male</td>\n",
       "      <td>0</td>\n",
       "      <td>2007</td>\n",
       "      <td>1</td>\n",
       "      <td>0.7778</td>\n",
       "      <td>Business travel</td>\n",
       "      <td>...</td>\n",
       "      <td>21.0</td>\n",
       "      <td>No</td>\n",
       "      <td>93.0</td>\n",
       "      <td>842</td>\n",
       "      <td>10.0</td>\n",
       "      <td>-87.8954</td>\n",
       "      <td>41.8271</td>\n",
       "      <td>-71.3974</td>\n",
       "      <td>41.7763</td>\n",
       "      <td>NaN</td>\n",
       "    </tr>\n",
       "    <tr>\n",
       "      <td>2</td>\n",
       "      <td>Chicago, IL</td>\n",
       "      <td>Austin, TX</td>\n",
       "      <td>Blue</td>\n",
       "      <td>80</td>\n",
       "      <td>Male</td>\n",
       "      <td>1</td>\n",
       "      <td>2010</td>\n",
       "      <td>36</td>\n",
       "      <td>-0.7143</td>\n",
       "      <td>Personal Travel</td>\n",
       "      <td>...</td>\n",
       "      <td>0.0</td>\n",
       "      <td>No</td>\n",
       "      <td>129.0</td>\n",
       "      <td>978</td>\n",
       "      <td>6.0</td>\n",
       "      <td>-97.7615</td>\n",
       "      <td>30.3585</td>\n",
       "      <td>-87.8954</td>\n",
       "      <td>41.8271</td>\n",
       "      <td>NaN</td>\n",
       "    </tr>\n",
       "    <tr>\n",
       "      <td>3</td>\n",
       "      <td>Cincinnati, OH</td>\n",
       "      <td>Miami, FL</td>\n",
       "      <td>Silver</td>\n",
       "      <td>35</td>\n",
       "      <td>Male</td>\n",
       "      <td>2</td>\n",
       "      <td>2005</td>\n",
       "      <td>21</td>\n",
       "      <td>-0.5000</td>\n",
       "      <td>Business travel</td>\n",
       "      <td>...</td>\n",
       "      <td>28.0</td>\n",
       "      <td>No</td>\n",
       "      <td>126.0</td>\n",
       "      <td>948</td>\n",
       "      <td>8.0</td>\n",
       "      <td>-80.2314</td>\n",
       "      <td>26.1756</td>\n",
       "      <td>-84.4620</td>\n",
       "      <td>39.1855</td>\n",
       "      <td>NaN</td>\n",
       "    </tr>\n",
       "    <tr>\n",
       "      <td>4</td>\n",
       "      <td>Denver, CO</td>\n",
       "      <td>Cleveland, OH</td>\n",
       "      <td>Gold</td>\n",
       "      <td>63</td>\n",
       "      <td>Female</td>\n",
       "      <td>1</td>\n",
       "      <td>2011</td>\n",
       "      <td>18</td>\n",
       "      <td>-0.5000</td>\n",
       "      <td>Personal Travel</td>\n",
       "      <td>...</td>\n",
       "      <td>0.0</td>\n",
       "      <td>No</td>\n",
       "      <td>192.0</td>\n",
       "      <td>1201</td>\n",
       "      <td>6.0</td>\n",
       "      <td>-81.6054</td>\n",
       "      <td>41.4436</td>\n",
       "      <td>-104.9551</td>\n",
       "      <td>39.7108</td>\n",
       "      <td>NaN</td>\n",
       "    </tr>\n",
       "  </tbody>\n",
       "</table>\n",
       "<p>5 rows × 32 columns</p>\n",
       "</div>"
      ],
      "text/plain": [
       "  Destination.City      Origin.City Airline.Status  Age  Gender  \\\n",
       "0      Houston, TX  Minneapolis, MN           Blue   66  Female   \n",
       "1   Providence, RI      Chicago, IL           Blue   47    Male   \n",
       "2      Chicago, IL       Austin, TX           Blue   80    Male   \n",
       "3   Cincinnati, OH        Miami, FL         Silver   35    Male   \n",
       "4       Denver, CO    Cleveland, OH           Gold   63  Female   \n",
       "\n",
       "   Price.Sensitivity  Year.of.First.Flight  Flights.Per.Year  Loyalty  \\\n",
       "0                  1                  2009                15  -0.3043   \n",
       "1                  0                  2007                 1   0.7778   \n",
       "2                  1                  2010                36  -0.7143   \n",
       "3                  2                  2005                21  -0.5000   \n",
       "4                  1                  2011                18  -0.5000   \n",
       "\n",
       "    Type.of.Travel  ...  Arrival.Delay.in.Minutes  Flight.cancelled  \\\n",
       "0  Business travel  ...                       0.0                No   \n",
       "1  Business travel  ...                      21.0                No   \n",
       "2  Personal Travel  ...                       0.0                No   \n",
       "3  Business travel  ...                      28.0                No   \n",
       "4  Personal Travel  ...                       0.0                No   \n",
       "\n",
       "   Flight.time.in.minutes Flight.Distance  Likelihood.to.recommend    olong  \\\n",
       "0                   142.0            1034                      5.0 -93.2798   \n",
       "1                    93.0             842                     10.0 -87.8954   \n",
       "2                   129.0             978                      6.0 -97.7615   \n",
       "3                   126.0             948                      8.0 -80.2314   \n",
       "4                   192.0            1201                      6.0 -81.6054   \n",
       "\n",
       "      olat     dlong     dlat freeText  \n",
       "0  44.9782  -95.3935  29.7843      NaN  \n",
       "1  41.8271  -71.3974  41.7763      NaN  \n",
       "2  30.3585  -87.8954  41.8271      NaN  \n",
       "3  26.1756  -84.4620  39.1855      NaN  \n",
       "4  41.4436 -104.9551  39.7108      NaN  \n",
       "\n",
       "[5 rows x 32 columns]"
      ]
     },
     "execution_count": 181,
     "metadata": {},
     "output_type": "execute_result"
    }
   ],
   "source": [
    "df_train.head(5)"
   ]
  },
  {
   "cell_type": "code",
   "execution_count": 182,
   "metadata": {},
   "outputs": [],
   "source": [
    "df_train.drop([\"Destination.City\",\"Origin.City\",\"Flight.date\",\"Partner.Code\",\"olong\",\"olat\",\"dlong\",\"dlat\",\"freeText\"], axis=1, inplace=True)"
   ]
  },
  {
   "cell_type": "code",
   "execution_count": 183,
   "metadata": {},
   "outputs": [
    {
     "name": "stdout",
     "output_type": "stream",
     "text": [
      "Airline.Status                      0\n",
      "Age                                 0\n",
      "Gender                              0\n",
      "Price.Sensitivity                   0\n",
      "Year.of.First.Flight                0\n",
      "Flights.Per.Year                    0\n",
      "Loyalty                             0\n",
      "Type.of.Travel                      0\n",
      "Total.Freq.Flyer.Accts              0\n",
      "Shopping.Amount.at.Airport          0\n",
      "Eating.and.Drinking.at.Airport      0\n",
      "Class                               0\n",
      "Day.of.Month                        0\n",
      "Partner.Name                        0\n",
      "Origin.State                        0\n",
      "Destination.State                   0\n",
      "Scheduled.Departure.Hour            0\n",
      "Departure.Delay.in.Minutes        218\n",
      "Arrival.Delay.in.Minutes          242\n",
      "Flight.cancelled                    0\n",
      "Flight.time.in.minutes            242\n",
      "Flight.Distance                     0\n",
      "Likelihood.to.recommend             1\n",
      "dtype: int64\n"
     ]
    }
   ],
   "source": [
    "print(pd.isnull(df_train).sum())"
   ]
  },
  {
   "cell_type": "code",
   "execution_count": 184,
   "metadata": {},
   "outputs": [
    {
     "data": {
      "text/plain": [
       "(10282, 23)"
      ]
     },
     "execution_count": 184,
     "metadata": {},
     "output_type": "execute_result"
    }
   ],
   "source": [
    "df_train.shape"
   ]
  },
  {
   "cell_type": "code",
   "execution_count": 185,
   "metadata": {},
   "outputs": [
    {
     "data": {
      "text/plain": [
       "'Male'"
      ]
     },
     "execution_count": 185,
     "metadata": {},
     "output_type": "execute_result"
    }
   ],
   "source": [
    "df_train.iloc[2,2]"
   ]
  },
  {
   "cell_type": "code",
   "execution_count": 186,
   "metadata": {},
   "outputs": [
    {
     "data": {
      "text/html": [
       "<div>\n",
       "<style scoped>\n",
       "    .dataframe tbody tr th:only-of-type {\n",
       "        vertical-align: middle;\n",
       "    }\n",
       "\n",
       "    .dataframe tbody tr th {\n",
       "        vertical-align: top;\n",
       "    }\n",
       "\n",
       "    .dataframe thead th {\n",
       "        text-align: right;\n",
       "    }\n",
       "</style>\n",
       "<table border=\"1\" class=\"dataframe\">\n",
       "  <thead>\n",
       "    <tr style=\"text-align: right;\">\n",
       "      <th></th>\n",
       "      <th>Airline.Status</th>\n",
       "      <th>Age</th>\n",
       "      <th>Gender</th>\n",
       "      <th>Price.Sensitivity</th>\n",
       "      <th>Year.of.First.Flight</th>\n",
       "      <th>Flights.Per.Year</th>\n",
       "      <th>Loyalty</th>\n",
       "      <th>Type.of.Travel</th>\n",
       "      <th>Total.Freq.Flyer.Accts</th>\n",
       "      <th>Shopping.Amount.at.Airport</th>\n",
       "      <th>...</th>\n",
       "      <th>Partner.Name</th>\n",
       "      <th>Origin.State</th>\n",
       "      <th>Destination.State</th>\n",
       "      <th>Scheduled.Departure.Hour</th>\n",
       "      <th>Departure.Delay.in.Minutes</th>\n",
       "      <th>Arrival.Delay.in.Minutes</th>\n",
       "      <th>Flight.cancelled</th>\n",
       "      <th>Flight.time.in.minutes</th>\n",
       "      <th>Flight.Distance</th>\n",
       "      <th>Likelihood.to.recommend</th>\n",
       "    </tr>\n",
       "  </thead>\n",
       "  <tbody>\n",
       "    <tr>\n",
       "      <td>2497</td>\n",
       "      <td>Silver</td>\n",
       "      <td>36</td>\n",
       "      <td>Male</td>\n",
       "      <td>2</td>\n",
       "      <td>2010</td>\n",
       "      <td>18</td>\n",
       "      <td>-0.0909</td>\n",
       "      <td>Business travel</td>\n",
       "      <td>2</td>\n",
       "      <td>0</td>\n",
       "      <td>...</td>\n",
       "      <td>Northwest Business Airlines Inc.</td>\n",
       "      <td>Wyoming</td>\n",
       "      <td>Utah</td>\n",
       "      <td>6</td>\n",
       "      <td>0.0</td>\n",
       "      <td>0.0</td>\n",
       "      <td>No</td>\n",
       "      <td>43.0</td>\n",
       "      <td>162</td>\n",
       "      <td>NaN</td>\n",
       "    </tr>\n",
       "  </tbody>\n",
       "</table>\n",
       "<p>1 rows × 23 columns</p>\n",
       "</div>"
      ],
      "text/plain": [
       "     Airline.Status  Age Gender  Price.Sensitivity  Year.of.First.Flight  \\\n",
       "2497         Silver   36   Male                  2                  2010   \n",
       "\n",
       "      Flights.Per.Year  Loyalty   Type.of.Travel  Total.Freq.Flyer.Accts  \\\n",
       "2497                18  -0.0909  Business travel                       2   \n",
       "\n",
       "      Shopping.Amount.at.Airport  ...                      Partner.Name  \\\n",
       "2497                           0  ...  Northwest Business Airlines Inc.   \n",
       "\n",
       "     Origin.State  Destination.State Scheduled.Departure.Hour  \\\n",
       "2497      Wyoming               Utah                        6   \n",
       "\n",
       "     Departure.Delay.in.Minutes Arrival.Delay.in.Minutes  Flight.cancelled  \\\n",
       "2497                        0.0                      0.0                No   \n",
       "\n",
       "      Flight.time.in.minutes  Flight.Distance Likelihood.to.recommend  \n",
       "2497                    43.0              162                     NaN  \n",
       "\n",
       "[1 rows x 23 columns]"
      ]
     },
     "execution_count": 186,
     "metadata": {},
     "output_type": "execute_result"
    }
   ],
   "source": [
    "df_train.loc[pd.isnull(df_train[\"Likelihood.to.recommend\"])]"
   ]
  },
  {
   "cell_type": "code",
   "execution_count": 187,
   "metadata": {},
   "outputs": [],
   "source": [
    "df_train.drop([2497], axis=0, inplace=True)"
   ]
  },
  {
   "cell_type": "code",
   "execution_count": 188,
   "metadata": {},
   "outputs": [
    {
     "data": {
      "text/plain": [
       "0.0"
      ]
     },
     "execution_count": 188,
     "metadata": {},
     "output_type": "execute_result"
    }
   ],
   "source": [
    "df_train[\"Departure.Delay.in.Minutes\"].median()"
   ]
  },
  {
   "cell_type": "code",
   "execution_count": 189,
   "metadata": {},
   "outputs": [
    {
     "data": {
      "text/plain": [
       "94.0"
      ]
     },
     "execution_count": 189,
     "metadata": {},
     "output_type": "execute_result"
    }
   ],
   "source": [
    "df_train[\"Flight.time.in.minutes\"].median()"
   ]
  },
  {
   "cell_type": "code",
   "execution_count": 190,
   "metadata": {},
   "outputs": [
    {
     "data": {
      "text/plain": [
       "0.0"
      ]
     },
     "execution_count": 190,
     "metadata": {},
     "output_type": "execute_result"
    }
   ],
   "source": [
    "df_train[\"Arrival.Delay.in.Minutes\"].median()"
   ]
  },
  {
   "cell_type": "code",
   "execution_count": 191,
   "metadata": {},
   "outputs": [],
   "source": [
    "df_train[\"Departure.Delay.in.Minutes\"].fillna(df_train[\"Departure.Delay.in.Minutes\"].median(), inplace= True)"
   ]
  },
  {
   "cell_type": "code",
   "execution_count": 192,
   "metadata": {},
   "outputs": [],
   "source": [
    "df_train[\"Flight.time.in.minutes\"].fillna(df_train[\"Flight.time.in.minutes\"].median(), inplace= True)"
   ]
  },
  {
   "cell_type": "code",
   "execution_count": 193,
   "metadata": {},
   "outputs": [],
   "source": [
    "df_train[\"Arrival.Delay.in.Minutes\"].fillna(df_train[\"Arrival.Delay.in.Minutes\"].median(), inplace= True)"
   ]
  },
  {
   "cell_type": "code",
   "execution_count": 194,
   "metadata": {},
   "outputs": [
    {
     "data": {
      "text/plain": [
       "Airline.Status                     object\n",
       "Age                                 int64\n",
       "Gender                             object\n",
       "Price.Sensitivity                   int64\n",
       "Year.of.First.Flight                int64\n",
       "Flights.Per.Year                    int64\n",
       "Loyalty                           float64\n",
       "Type.of.Travel                     object\n",
       "Total.Freq.Flyer.Accts              int64\n",
       "Shopping.Amount.at.Airport          int64\n",
       "Eating.and.Drinking.at.Airport      int64\n",
       "Class                              object\n",
       "Day.of.Month                        int64\n",
       "Partner.Name                       object\n",
       "Origin.State                       object\n",
       "Destination.State                  object\n",
       "Scheduled.Departure.Hour            int64\n",
       "Departure.Delay.in.Minutes        float64\n",
       "Arrival.Delay.in.Minutes          float64\n",
       "Flight.cancelled                   object\n",
       "Flight.time.in.minutes            float64\n",
       "Flight.Distance                     int64\n",
       "Likelihood.to.recommend           float64\n",
       "dtype: object"
      ]
     },
     "execution_count": 194,
     "metadata": {},
     "output_type": "execute_result"
    }
   ],
   "source": [
    "df_train.dtypes"
   ]
  },
  {
   "cell_type": "code",
   "execution_count": 195,
   "metadata": {},
   "outputs": [
    {
     "data": {
      "text/plain": [
       "<matplotlib.axes._subplots.AxesSubplot at 0x125689190>"
      ]
     },
     "execution_count": 195,
     "metadata": {},
     "output_type": "execute_result"
    },
    {
     "data": {
      "image/png": "[encoded data removed]",
      "text/plain": [
       "<Figure size 432x288 with 1 Axes>"
      ]
     },
     "metadata": {
      "needs_background": "light"
     },
     "output_type": "display_data"
    }
   ],
   "source": [
    "sns.distplot(df_train[\"Age\"])"
   ]
  },
  {
   "cell_type": "code",
   "execution_count": 196,
   "metadata": {},
   "outputs": [
    {
     "data": {
      "text/plain": [
       "<matplotlib.axes._subplots.AxesSubplot at 0x125720750>"
      ]
     },
     "execution_count": 196,
     "metadata": {},
     "output_type": "execute_result"
    },
    {
     "data": {
      "image/png": "[encoded data removed]",
      "text/plain": [
       "<Figure size 432x288 with 1 Axes>"
      ]
     },
     "metadata": {
      "needs_background": "light"
     },
     "output_type": "display_data"
    }
   ],
   "source": [
    "sns.distplot(df_train[\"Price.Sensitivity\"])"
   ]
  },
  {
   "cell_type": "code",
   "execution_count": 197,
   "metadata": {},
   "outputs": [
    {
     "data": {
      "text/plain": [
       "<matplotlib.axes._subplots.AxesSubplot at 0x1255d7490>"
      ]
     },
     "execution_count": 197,
     "metadata": {},
     "output_type": "execute_result"
    },
    {
     "data": {
      "image/png": "[encoded data removed]",
      "text/plain": [
       "<Figure size 432x288 with 1 Axes>"
      ]
     },
     "metadata": {
      "needs_background": "light"
     },
     "output_type": "display_data"
    }
   ],
   "source": [
    "sns.distplot(df_train[\"Year.of.First.Flight\"])"
   ]
  },
  {
   "cell_type": "code",
   "execution_count": 198,
   "metadata": {},
   "outputs": [
    {
     "data": {
      "text/plain": [
       "<matplotlib.axes._subplots.AxesSubplot at 0x1257af450>"
      ]
     },
     "execution_count": 198,
     "metadata": {},
     "output_type": "execute_result"
    },
    {
     "data": {
      "image/png": "[encoded data removed]",
      "text/plain": [
       "<Figure size 432x288 with 1 Axes>"
      ]
     },
     "metadata": {
      "needs_background": "light"
     },
     "output_type": "display_data"
    }
   ],
   "source": [
    "sns.distplot(df_train[\"Flights.Per.Year\"])"
   ]
  },
  {
   "cell_type": "code",
   "execution_count": 199,
   "metadata": {},
   "outputs": [
    {
     "data": {
      "text/plain": [
       "<matplotlib.axes._subplots.AxesSubplot at 0x1258ebe10>"
      ]
     },
     "execution_count": 199,
     "metadata": {},
     "output_type": "execute_result"
    },
    {
     "data": {
      "image/png": "[encoded data removed]",
      "text/plain": [
       "<Figure size 432x288 with 1 Axes>"
      ]
     },
     "metadata": {
      "needs_background": "light"
     },
     "output_type": "display_data"
    }
   ],
   "source": [
    "sns.distplot(df_train[\"Total.Freq.Flyer.Accts\"])"
   ]
  },
  {
   "cell_type": "code",
   "execution_count": 200,
   "metadata": {},
   "outputs": [
    {
     "data": {
      "text/plain": [
       "<matplotlib.axes._subplots.AxesSubplot at 0x1259a2990>"
      ]
     },
     "execution_count": 200,
     "metadata": {},
     "output_type": "execute_result"
    },
    {
     "data": {
      "image/png": "[encoded data removed]",
      "text/plain": [
       "<Figure size 432x288 with 1 Axes>"
      ]
     },
     "metadata": {
      "needs_background": "light"
     },
     "output_type": "display_data"
    }
   ],
   "source": [
    "sns.distplot(df_train[\"Shopping.Amount.at.Airport\"])"
   ]
  },
  {
   "cell_type": "code",
   "execution_count": 201,
   "metadata": {},
   "outputs": [
    {
     "data": {
      "text/plain": [
       "<matplotlib.axes._subplots.AxesSubplot at 0x125a75950>"
      ]
     },
     "execution_count": 201,
     "metadata": {},
     "output_type": "execute_result"
    },
    {
     "data": {
      "image/png": "[encoded data removed]",
      "text/plain": [
       "<Figure size 432x288 with 1 Axes>"
      ]
     },
     "metadata": {
      "needs_background": "light"
     },
     "output_type": "display_data"
    }
   ],
   "source": [
    "sns.distplot(df_train[\"Eating.and.Drinking.at.Airport\"])"
   ]
  },
  {
   "cell_type": "code",
   "execution_count": 202,
   "metadata": {},
   "outputs": [
    {
     "data": {
      "text/plain": [
       "<matplotlib.axes._subplots.AxesSubplot at 0x125a85650>"
      ]
     },
     "execution_count": 202,
     "metadata": {},
     "output_type": "execute_result"
    },
    {
     "data": {
      "image/png": "[encoded data removed]",
      "text/plain": [
       "<Figure size 432x288 with 1 Axes>"
      ]
     },
     "metadata": {
      "needs_background": "light"
     },
     "output_type": "display_data"
    }
   ],
   "source": [
    "sns.distplot(df_train[\"Day.of.Month\"])"
   ]
  },
  {
   "cell_type": "code",
   "execution_count": 203,
   "metadata": {},
   "outputs": [
    {
     "data": {
      "text/plain": [
       "<matplotlib.axes._subplots.AxesSubplot at 0x125b57190>"
      ]
     },
     "execution_count": 203,
     "metadata": {},
     "output_type": "execute_result"
    },
    {
     "data": {
      "image/png": "[encoded data removed]",
      "text/plain": [
       "<Figure size 432x288 with 1 Axes>"
      ]
     },
     "metadata": {
      "needs_background": "light"
     },
     "output_type": "display_data"
    }
   ],
   "source": [
    "sns.distplot(df_train[\"Scheduled.Departure.Hour\"])"
   ]
  },
  {
   "cell_type": "code",
   "execution_count": 204,
   "metadata": {},
   "outputs": [
    {
     "data": {
      "text/plain": [
       "<matplotlib.axes._subplots.AxesSubplot at 0x125c41d90>"
      ]
     },
     "execution_count": 204,
     "metadata": {},
     "output_type": "execute_result"
    },
    {
     "data": {
      "image/png": "[encoded data removed]",
      "text/plain": [
       "<Figure size 432x288 with 1 Axes>"
      ]
     },
     "metadata": {
      "needs_background": "light"
     },
     "output_type": "display_data"
    }
   ],
   "source": [
    "sns.distplot(df_train[\"Flight.Distance\"])"
   ]
  },
  {
   "cell_type": "code",
   "execution_count": 205,
   "metadata": {},
   "outputs": [
    {
     "data": {
      "text/plain": [
       "array(['Blue', 'Silver', 'Gold', 'Platinum'], dtype=object)"
      ]
     },
     "execution_count": 205,
     "metadata": {},
     "output_type": "execute_result"
    }
   ],
   "source": [
    "df_train[\"Airline.Status\"].unique()"
   ]
  },
  {
   "cell_type": "code",
   "execution_count": 206,
   "metadata": {},
   "outputs": [
    {
     "data": {
      "text/plain": [
       "<matplotlib.axes._subplots.AxesSubplot at 0x125cfca50>"
      ]
     },
     "execution_count": 206,
     "metadata": {},
     "output_type": "execute_result"
    },
    {
     "data": {
      "image/png": "[encoded data removed]",
      "text/plain": [
       "<Figure size 432x288 with 1 Axes>"
      ]
     },
     "metadata": {
      "needs_background": "light"
     },
     "output_type": "display_data"
    }
   ],
   "source": [
    "sns.barplot(x=\"Airline.Status\", y=\"Likelihood.to.recommend\", hue=\"Gender\", data=df_train)"
   ]
  },
  {
   "cell_type": "code",
   "execution_count": 207,
   "metadata": {},
   "outputs": [],
   "source": [
    "df_train[\"Customer.Type\"]=pd.cut(x=df_train[\"Likelihood.to.recommend\"], bins=[0,6,8,10], labels=[\"Detractors\",\"Passive\",\"Promoters\"])"
   ]
  },
  {
   "cell_type": "code",
   "execution_count": 208,
   "metadata": {},
   "outputs": [
    {
     "data": {
      "text/html": [
       "<div>\n",
       "<style scoped>\n",
       "    .dataframe tbody tr th:only-of-type {\n",
       "        vertical-align: middle;\n",
       "    }\n",
       "\n",
       "    .dataframe tbody tr th {\n",
       "        vertical-align: top;\n",
       "    }\n",
       "\n",
       "    .dataframe thead th {\n",
       "        text-align: right;\n",
       "    }\n",
       "</style>\n",
       "<table border=\"1\" class=\"dataframe\">\n",
       "  <thead>\n",
       "    <tr style=\"text-align: right;\">\n",
       "      <th></th>\n",
       "      <th>Airline.Status</th>\n",
       "      <th>Age</th>\n",
       "      <th>Gender</th>\n",
       "      <th>Price.Sensitivity</th>\n",
       "      <th>Year.of.First.Flight</th>\n",
       "      <th>Flights.Per.Year</th>\n",
       "      <th>Loyalty</th>\n",
       "      <th>Type.of.Travel</th>\n",
       "      <th>Total.Freq.Flyer.Accts</th>\n",
       "      <th>Shopping.Amount.at.Airport</th>\n",
       "      <th>...</th>\n",
       "      <th>Origin.State</th>\n",
       "      <th>Destination.State</th>\n",
       "      <th>Scheduled.Departure.Hour</th>\n",
       "      <th>Departure.Delay.in.Minutes</th>\n",
       "      <th>Arrival.Delay.in.Minutes</th>\n",
       "      <th>Flight.cancelled</th>\n",
       "      <th>Flight.time.in.minutes</th>\n",
       "      <th>Flight.Distance</th>\n",
       "      <th>Likelihood.to.recommend</th>\n",
       "      <th>Customer.Type</th>\n",
       "    </tr>\n",
       "  </thead>\n",
       "  <tbody>\n",
       "    <tr>\n",
       "      <td>0</td>\n",
       "      <td>Blue</td>\n",
       "      <td>66</td>\n",
       "      <td>Female</td>\n",
       "      <td>1</td>\n",
       "      <td>2009</td>\n",
       "      <td>15</td>\n",
       "      <td>-0.3043</td>\n",
       "      <td>Business travel</td>\n",
       "      <td>0</td>\n",
       "      <td>5</td>\n",
       "      <td>...</td>\n",
       "      <td>Minnesota</td>\n",
       "      <td>Texas</td>\n",
       "      <td>11</td>\n",
       "      <td>0.0</td>\n",
       "      <td>0.0</td>\n",
       "      <td>No</td>\n",
       "      <td>142.0</td>\n",
       "      <td>1034</td>\n",
       "      <td>5.0</td>\n",
       "      <td>Detractors</td>\n",
       "    </tr>\n",
       "    <tr>\n",
       "      <td>1</td>\n",
       "      <td>Blue</td>\n",
       "      <td>47</td>\n",
       "      <td>Male</td>\n",
       "      <td>0</td>\n",
       "      <td>2007</td>\n",
       "      <td>1</td>\n",
       "      <td>0.7778</td>\n",
       "      <td>Business travel</td>\n",
       "      <td>2</td>\n",
       "      <td>0</td>\n",
       "      <td>...</td>\n",
       "      <td>Illinois</td>\n",
       "      <td>Rhode Island</td>\n",
       "      <td>20</td>\n",
       "      <td>33.0</td>\n",
       "      <td>21.0</td>\n",
       "      <td>No</td>\n",
       "      <td>93.0</td>\n",
       "      <td>842</td>\n",
       "      <td>10.0</td>\n",
       "      <td>Promoters</td>\n",
       "    </tr>\n",
       "  </tbody>\n",
       "</table>\n",
       "<p>2 rows × 24 columns</p>\n",
       "</div>"
      ],
      "text/plain": [
       "  Airline.Status  Age  Gender  Price.Sensitivity  Year.of.First.Flight  \\\n",
       "0           Blue   66  Female                  1                  2009   \n",
       "1           Blue   47    Male                  0                  2007   \n",
       "\n",
       "   Flights.Per.Year  Loyalty   Type.of.Travel  Total.Freq.Flyer.Accts  \\\n",
       "0                15  -0.3043  Business travel                       0   \n",
       "1                 1   0.7778  Business travel                       2   \n",
       "\n",
       "   Shopping.Amount.at.Airport  ...  Origin.State Destination.State  \\\n",
       "0                           5  ...     Minnesota             Texas   \n",
       "1                           0  ...      Illinois      Rhode Island   \n",
       "\n",
       "   Scheduled.Departure.Hour Departure.Delay.in.Minutes  \\\n",
       "0                        11                        0.0   \n",
       "1                        20                       33.0   \n",
       "\n",
       "  Arrival.Delay.in.Minutes Flight.cancelled  Flight.time.in.minutes  \\\n",
       "0                      0.0               No                   142.0   \n",
       "1                     21.0               No                    93.0   \n",
       "\n",
       "   Flight.Distance  Likelihood.to.recommend Customer.Type  \n",
       "0             1034                      5.0    Detractors  \n",
       "1              842                     10.0     Promoters  \n",
       "\n",
       "[2 rows x 24 columns]"
      ]
     },
     "execution_count": 208,
     "metadata": {},
     "output_type": "execute_result"
    }
   ],
   "source": [
    "df_train.head(2)"
   ]
  },
  {
   "cell_type": "code",
   "execution_count": 209,
   "metadata": {},
   "outputs": [
    {
     "data": {
      "text/plain": [
       "<matplotlib.axes._subplots.AxesSubplot at 0x125d8a490>"
      ]
     },
     "execution_count": 209,
     "metadata": {},
     "output_type": "execute_result"
    },
    {
     "data": {
      "image/png": "[encoded data removed]",
      "text/plain": [
       "<Figure size 432x288 with 1 Axes>"
      ]
     },
     "metadata": {
      "needs_background": "light"
     },
     "output_type": "display_data"
    }
   ],
   "source": [
    "sns.barplot(x=\"Age\", y=\"Customer.Type\", data=df_train)"
   ]
  },
  {
   "cell_type": "code",
   "execution_count": 210,
   "metadata": {},
   "outputs": [
    {
     "data": {
      "text/plain": [
       "<matplotlib.axes._subplots.AxesSubplot at 0x125d80590>"
      ]
     },
     "execution_count": 210,
     "metadata": {},
     "output_type": "execute_result"
    },
    {
     "data": {
      "image/png": "[encoded data removed]",
      "text/plain": [
       "<Figure size 432x288 with 1 Axes>"
      ]
     },
     "metadata": {
      "needs_background": "light"
     },
     "output_type": "display_data"
    }
   ],
   "source": [
    "sns.barplot(x=\"Flights.Per.Year\", y=\"Customer.Type\", data=df_train)"
   ]
  },
  {
   "cell_type": "code",
   "execution_count": 211,
   "metadata": {},
   "outputs": [
    {
     "data": {
      "text/plain": [
       "<matplotlib.axes._subplots.AxesSubplot at 0x125e42810>"
      ]
     },
     "execution_count": 211,
     "metadata": {},
     "output_type": "execute_result"
    },
    {
     "data": {
      "image/png": "[encoded data removed]",
      "text/plain": [
       "<Figure size 432x288 with 1 Axes>"
      ]
     },
     "metadata": {
      "needs_background": "light"
     },
     "output_type": "display_data"
    }
   ],
   "source": [
    "sns.barplot(x=\"Type.of.Travel\", y=\"Likelihood.to.recommend\", data=df_train)"
   ]
  },
  {
   "cell_type": "code",
   "execution_count": 212,
   "metadata": {},
   "outputs": [
    {
     "data": {
      "text/plain": [
       "<matplotlib.axes._subplots.AxesSubplot at 0x125ea9f10>"
      ]
     },
     "execution_count": 212,
     "metadata": {},
     "output_type": "execute_result"
    },
    {
     "data": {
      "image/png": "[encoded data removed]",
      "text/plain": [
       "<Figure size 432x288 with 1 Axes>"
      ]
     },
     "metadata": {
      "needs_background": "light"
     },
     "output_type": "display_data"
    }
   ],
   "source": [
    "sns.barplot(x=\"Eating.and.Drinking.at.Airport\", y=\"Customer.Type\", hue=\"Gender\", data=df_train)"
   ]
  },
  {
   "cell_type": "code",
   "execution_count": 213,
   "metadata": {},
   "outputs": [
    {
     "data": {
      "text/plain": [
       "<matplotlib.axes._subplots.AxesSubplot at 0x125f1e410>"
      ]
     },
     "execution_count": 213,
     "metadata": {},
     "output_type": "execute_result"
    },
    {
     "data": {
      "image/png": "[encoded data removed]",
      "text/plain": [
       "<Figure size 432x288 with 1 Axes>"
      ]
     },
     "metadata": {
      "needs_background": "light"
     },
     "output_type": "display_data"
    }
   ],
   "source": [
    "sns.barplot(x=\"Likelihood.to.recommend\", y=\"Partner.Name\", data=df_train)"
   ]
  },
  {
   "cell_type": "code",
   "execution_count": 214,
   "metadata": {},
   "outputs": [
    {
     "data": {
      "text/plain": [
       "<matplotlib.axes._subplots.AxesSubplot at 0x125f0cf50>"
      ]
     },
     "execution_count": 214,
     "metadata": {},
     "output_type": "execute_result"
    },
    {
     "data": {
      "image/png": "[encoded data removed]",
      "text/plain": [
       "<Figure size 432x288 with 1 Axes>"
      ]
     },
     "metadata": {
      "needs_background": "light"
     },
     "output_type": "display_data"
    }
   ],
   "source": [
    "sns.barplot(x=\"Likelihood.to.recommend\", y=\"Origin.State\", data=df_train)"
   ]
  },
  {
   "cell_type": "code",
   "execution_count": 215,
   "metadata": {},
   "outputs": [
    {
     "data": {
      "text/plain": [
       "<matplotlib.axes._subplots.AxesSubplot at 0x126191450>"
      ]
     },
     "execution_count": 215,
     "metadata": {},
     "output_type": "execute_result"
    },
    {
     "data": {
      "image/png": "[encoded data removed]",
      "text/plain": [
       "<Figure size 432x288 with 1 Axes>"
      ]
     },
     "metadata": {
      "needs_background": "light"
     },
     "output_type": "display_data"
    }
   ],
   "source": [
    "sns.barplot(x=\"Arrival.Delay.in.Minutes\", y=\"Customer.Type\", data=df_train)"
   ]
  },
  {
   "cell_type": "code",
   "execution_count": 216,
   "metadata": {},
   "outputs": [
    {
     "data": {
      "text/plain": [
       "<matplotlib.axes._subplots.AxesSubplot at 0x126194610>"
      ]
     },
     "execution_count": 216,
     "metadata": {},
     "output_type": "execute_result"
    },
    {
     "data": {
      "image/png": "[encoded data removed]",
      "text/plain": [
       "<Figure size 432x288 with 1 Axes>"
      ]
     },
     "metadata": {
      "needs_background": "light"
     },
     "output_type": "display_data"
    }
   ],
   "source": [
    "sns.barplot(x=\"Flight.Distance\", y=\"Customer.Type\", data=df_train)"
   ]
  },
  {
   "cell_type": "code",
   "execution_count": 217,
   "metadata": {},
   "outputs": [
    {
     "data": {
      "text/plain": [
       "<matplotlib.axes._subplots.AxesSubplot at 0x12624b390>"
      ]
     },
     "execution_count": 217,
     "metadata": {},
     "output_type": "execute_result"
    },
    {
     "data": {
      "image/png": "[encoded data removed]",
      "text/plain": [
       "<Figure size 432x288 with 1 Axes>"
      ]
     },
     "metadata": {
      "needs_background": "light"
     },
     "output_type": "display_data"
    }
   ],
   "source": [
    "sns.barplot(x=\"Loyalty\", y=\"Customer.Type\", data=df_train)"
   ]
  },
  {
   "cell_type": "code",
   "execution_count": 218,
   "metadata": {},
   "outputs": [
    {
     "data": {
      "text/plain": [
       "['Airline.Status',\n",
       " 'Age',\n",
       " 'Gender',\n",
       " 'Price.Sensitivity',\n",
       " 'Year.of.First.Flight',\n",
       " 'Flights.Per.Year',\n",
       " 'Loyalty',\n",
       " 'Type.of.Travel',\n",
       " 'Total.Freq.Flyer.Accts',\n",
       " 'Shopping.Amount.at.Airport',\n",
       " 'Eating.and.Drinking.at.Airport',\n",
       " 'Class',\n",
       " 'Day.of.Month',\n",
       " 'Partner.Name',\n",
       " 'Origin.State',\n",
       " 'Destination.State',\n",
       " 'Scheduled.Departure.Hour',\n",
       " 'Departure.Delay.in.Minutes',\n",
       " 'Arrival.Delay.in.Minutes',\n",
       " 'Flight.cancelled',\n",
       " 'Flight.time.in.minutes',\n",
       " 'Flight.Distance',\n",
       " 'Likelihood.to.recommend',\n",
       " 'Customer.Type']"
      ]
     },
     "execution_count": 218,
     "metadata": {},
     "output_type": "execute_result"
    }
   ],
   "source": [
    "list(df_train.columns)"
   ]
  },
  {
   "cell_type": "code",
   "execution_count": 219,
   "metadata": {},
   "outputs": [],
   "source": [
    "df_train = pd.get_dummies(df_train, columns=[\"Airline.Status\", \"Gender\", \"Type.of.Travel\", \"Class\", \"Partner.Name\", \"Origin.State\", \"Destination.State\", \n",
    "                                             \"Flight.cancelled\"])"
   ]
  },
  {
   "cell_type": "code",
   "execution_count": 220,
   "metadata": {},
   "outputs": [
    {
     "data": {
      "text/plain": [
       "['Age',\n",
       " 'Price.Sensitivity',\n",
       " 'Year.of.First.Flight',\n",
       " 'Flights.Per.Year',\n",
       " 'Loyalty',\n",
       " 'Total.Freq.Flyer.Accts',\n",
       " 'Shopping.Amount.at.Airport',\n",
       " 'Eating.and.Drinking.at.Airport',\n",
       " 'Day.of.Month',\n",
       " 'Scheduled.Departure.Hour',\n",
       " 'Departure.Delay.in.Minutes',\n",
       " 'Arrival.Delay.in.Minutes',\n",
       " 'Flight.time.in.minutes',\n",
       " 'Flight.Distance',\n",
       " 'Likelihood.to.recommend',\n",
       " 'Customer.Type',\n",
       " 'Airline.Status_Blue',\n",
       " 'Airline.Status_Gold',\n",
       " 'Airline.Status_Platinum',\n",
       " 'Airline.Status_Silver',\n",
       " 'Gender_Female',\n",
       " 'Gender_Male',\n",
       " 'Type.of.Travel_Business travel',\n",
       " 'Type.of.Travel_Mileage tickets',\n",
       " 'Type.of.Travel_Personal Travel',\n",
       " 'Class_Business',\n",
       " 'Class_Eco',\n",
       " 'Class_Eco Plus',\n",
       " 'Partner.Name_Cheapseats Airlines Inc.',\n",
       " 'Partner.Name_Cool&Young Airlines Inc.',\n",
       " 'Partner.Name_EnjoyFlying Air Services',\n",
       " 'Partner.Name_FlyFast Airways Inc.',\n",
       " 'Partner.Name_FlyHere Airways',\n",
       " 'Partner.Name_FlyToSun Airlines Inc.',\n",
       " 'Partner.Name_GoingNorth Airlines Inc.',\n",
       " 'Partner.Name_Northwest Business Airlines Inc.',\n",
       " 'Partner.Name_OnlyJets Airlines Inc.',\n",
       " 'Partner.Name_Oursin Airlines Inc.',\n",
       " 'Partner.Name_Paul Smith Airlines Inc.',\n",
       " 'Partner.Name_Sigma Airlines Inc.',\n",
       " 'Partner.Name_Southeast Airlines Co.',\n",
       " 'Partner.Name_West Airways Inc.',\n",
       " 'Origin.State_Alabama',\n",
       " 'Origin.State_Alaska',\n",
       " 'Origin.State_Arizona',\n",
       " 'Origin.State_Arkansas',\n",
       " 'Origin.State_California',\n",
       " 'Origin.State_Colorado',\n",
       " 'Origin.State_Connecticut',\n",
       " 'Origin.State_Florida',\n",
       " 'Origin.State_Georgia',\n",
       " 'Origin.State_Hawaii',\n",
       " 'Origin.State_Idaho',\n",
       " 'Origin.State_Illinois',\n",
       " 'Origin.State_Indiana',\n",
       " 'Origin.State_Iowa',\n",
       " 'Origin.State_Kansas',\n",
       " 'Origin.State_Kentucky',\n",
       " 'Origin.State_Louisiana',\n",
       " 'Origin.State_Maine',\n",
       " 'Origin.State_Maryland',\n",
       " 'Origin.State_Massachusetts',\n",
       " 'Origin.State_Michigan',\n",
       " 'Origin.State_Minnesota',\n",
       " 'Origin.State_Mississippi',\n",
       " 'Origin.State_Missouri',\n",
       " 'Origin.State_Montana',\n",
       " 'Origin.State_Nebraska',\n",
       " 'Origin.State_Nevada',\n",
       " 'Origin.State_New Hampshire',\n",
       " 'Origin.State_New Jersey',\n",
       " 'Origin.State_New Mexico',\n",
       " 'Origin.State_New York',\n",
       " 'Origin.State_North Carolina',\n",
       " 'Origin.State_North Dakota',\n",
       " 'Origin.State_Ohio',\n",
       " 'Origin.State_Oklahoma',\n",
       " 'Origin.State_Oregon',\n",
       " 'Origin.State_Pennsylvania',\n",
       " 'Origin.State_Puerto Rico',\n",
       " 'Origin.State_Rhode Island',\n",
       " 'Origin.State_South Carolina',\n",
       " 'Origin.State_South Dakota',\n",
       " 'Origin.State_Tennessee',\n",
       " 'Origin.State_Texas',\n",
       " 'Origin.State_Utah',\n",
       " 'Origin.State_Vermont',\n",
       " 'Origin.State_Virginia',\n",
       " 'Origin.State_Washington',\n",
       " 'Origin.State_Wisconsin',\n",
       " 'Origin.State_Wyoming',\n",
       " 'Destination.State_Alabama',\n",
       " 'Destination.State_Alaska',\n",
       " 'Destination.State_Arizona',\n",
       " 'Destination.State_Arkansas',\n",
       " 'Destination.State_California',\n",
       " 'Destination.State_Colorado',\n",
       " 'Destination.State_Connecticut',\n",
       " 'Destination.State_Florida',\n",
       " 'Destination.State_Georgia',\n",
       " 'Destination.State_Hawaii',\n",
       " 'Destination.State_Idaho',\n",
       " 'Destination.State_Illinois',\n",
       " 'Destination.State_Indiana',\n",
       " 'Destination.State_Iowa',\n",
       " 'Destination.State_Kansas',\n",
       " 'Destination.State_Kentucky',\n",
       " 'Destination.State_Louisiana',\n",
       " 'Destination.State_Maine',\n",
       " 'Destination.State_Maryland',\n",
       " 'Destination.State_Massachusetts',\n",
       " 'Destination.State_Michigan',\n",
       " 'Destination.State_Minnesota',\n",
       " 'Destination.State_Mississippi',\n",
       " 'Destination.State_Missouri',\n",
       " 'Destination.State_Montana',\n",
       " 'Destination.State_Nebraska',\n",
       " 'Destination.State_Nevada',\n",
       " 'Destination.State_New Hampshire',\n",
       " 'Destination.State_New Jersey',\n",
       " 'Destination.State_New Mexico',\n",
       " 'Destination.State_New York',\n",
       " 'Destination.State_North Carolina',\n",
       " 'Destination.State_North Dakota',\n",
       " 'Destination.State_Ohio',\n",
       " 'Destination.State_Oklahoma',\n",
       " 'Destination.State_Oregon',\n",
       " 'Destination.State_Pennsylvania',\n",
       " 'Destination.State_Puerto Rico',\n",
       " 'Destination.State_Rhode Island',\n",
       " 'Destination.State_South Carolina',\n",
       " 'Destination.State_South Dakota',\n",
       " 'Destination.State_Tennessee',\n",
       " 'Destination.State_Texas',\n",
       " 'Destination.State_Utah',\n",
       " 'Destination.State_Vermont',\n",
       " 'Destination.State_Virginia',\n",
       " 'Destination.State_Washington',\n",
       " 'Destination.State_Wisconsin',\n",
       " 'Destination.State_Wyoming',\n",
       " 'Flight.cancelled_No',\n",
       " 'Flight.cancelled_Yes']"
      ]
     },
     "execution_count": 220,
     "metadata": {},
     "output_type": "execute_result"
    }
   ],
   "source": [
    "list(df_train.columns)"
   ]
  },
  {
   "cell_type": "code",
   "execution_count": 221,
   "metadata": {},
   "outputs": [],
   "source": [
    "df_train= df_train.astype({\"Customer.Type\":object})"
   ]
  },
  {
   "cell_type": "code",
   "execution_count": 222,
   "metadata": {},
   "outputs": [],
   "source": [
    "df_train.loc[df_train[\"Customer.Type\"] == \"Promoters\", \"Customer.Type\"] = 0\n",
    "df_train.loc[df_train[\"Customer.Type\"] == \"Detractors\", \"Customer.Type\"] = 1\n",
    "df_train.loc[df_train[\"Customer.Type\"] == \"Passive\", \"Customer.Type\"] = 0"
   ]
  },
  {
   "cell_type": "code",
   "execution_count": 223,
   "metadata": {},
   "outputs": [],
   "source": [
    "target = [\"Customer.Type\"]"
   ]
  },
  {
   "cell_type": "code",
   "execution_count": 224,
   "metadata": {},
   "outputs": [],
   "source": [
    "predictors_list = list(df_train)"
   ]
  },
  {
   "cell_type": "code",
   "execution_count": 225,
   "metadata": {},
   "outputs": [],
   "source": [
    "target_likelihood = [\"Likelihood.to.recommend\"]"
   ]
  },
  {
   "cell_type": "code",
   "execution_count": 226,
   "metadata": {},
   "outputs": [],
   "source": [
    "predictors = list(set(predictors_list) - set(target) - set(target_likelihood))"
   ]
  },
  {
   "cell_type": "code",
   "execution_count": 227,
   "metadata": {},
   "outputs": [],
   "source": [
    "X=df_train[predictors].copy(deep=True)"
   ]
  },
  {
   "cell_type": "code",
   "execution_count": 228,
   "metadata": {},
   "outputs": [],
   "source": [
    "y=df_train[target].copy(deep=True)"
   ]
  },
  {
   "cell_type": "code",
   "execution_count": 238,
   "metadata": {},
   "outputs": [
    {
     "data": {
      "text/plain": [
       "0    7011\n",
       "1    3270\n",
       "Name: Customer.Type, dtype: int64"
      ]
     },
     "execution_count": 238,
     "metadata": {},
     "output_type": "execute_result"
    }
   ],
   "source": [
    "y[\"Customer.Type\"].value_counts()"
   ]
  },
  {
   "cell_type": "code",
   "execution_count": 229,
   "metadata": {},
   "outputs": [],
   "source": [
    "X_train, X_test, y_train, y_test = train_test_split(X, y, test_size=0.2, random_state=42)"
   ]
  },
  {
   "cell_type": "code",
   "execution_count": 235,
   "metadata": {},
   "outputs": [
    {
     "data": {
      "text/plain": [
       "8224"
      ]
     },
     "execution_count": 235,
     "metadata": {},
     "output_type": "execute_result"
    }
   ],
   "source": [
    "len(y_train)"
   ]
  },
  {
   "cell_type": "code",
   "execution_count": 230,
   "metadata": {},
   "outputs": [],
   "source": [
    "rf = RandomForestClassifier(n_estimators=500, criterion=\"entropy\", max_depth=20, min_samples_split=5)"
   ]
  },
  {
   "cell_type": "code",
   "execution_count": 231,
   "metadata": {},
   "outputs": [
    {
     "name": "stderr",
     "output_type": "stream",
     "text": [
      "/Library/Frameworks/Python.framework/Versions/3.7/lib/python3.7/site-packages/ipykernel_launcher.py:1: DataConversionWarning: A column-vector y was passed when a 1d array was expected. Please change the shape of y to (n_samples,), for example using ravel().\n",
      "  \"\"\"Entry point for launching an IPython kernel.\n"
     ]
    },
    {
     "data": {
      "text/plain": [
       "RandomForestClassifier(bootstrap=True, ccp_alpha=0.0, class_weight=None,\n",
       "                       criterion='entropy', max_depth=20, max_features='auto',\n",
       "                       max_leaf_nodes=None, max_samples=None,\n",
       "                       min_impurity_decrease=0.0, min_impurity_split=None,\n",
       "                       min_samples_leaf=1, min_samples_split=5,\n",
       "                       min_weight_fraction_leaf=0.0, n_estimators=500,\n",
       "                       n_jobs=None, oob_score=False, random_state=None,\n",
       "                       verbose=0, warm_start=False)"
      ]
     },
     "execution_count": 231,
     "metadata": {},
     "output_type": "execute_result"
    }
   ],
   "source": [
    "rf.fit(X_train, y_train)"
   ]
  },
  {
   "cell_type": "code",
   "execution_count": 137,
   "metadata": {},
   "outputs": [],
   "source": [
    "y_predict = rf.predict(X_test)"
   ]
  },
  {
   "cell_type": "code",
   "execution_count": 138,
   "metadata": {},
   "outputs": [
    {
     "data": {
      "text/plain": [
       "array([[1301,  119],\n",
       "       [ 213,  424]])"
      ]
     },
     "execution_count": 138,
     "metadata": {},
     "output_type": "execute_result"
    }
   ],
   "source": [
    "confusion_matrix(y_test, y_predict)"
   ]
  },
  {
   "cell_type": "code",
   "execution_count": 139,
   "metadata": {},
   "outputs": [
    {
     "data": {
      "text/plain": [
       "0.8385999027710258"
      ]
     },
     "execution_count": 139,
     "metadata": {},
     "output_type": "execute_result"
    }
   ],
   "source": [
    "accuracy_score(y_test, y_predict)"
   ]
  },
  {
   "cell_type": "code",
   "execution_count": 140,
   "metadata": {},
   "outputs": [
    {
     "data": {
      "text/plain": [
       "0.8347567369606662"
      ]
     },
     "execution_count": 140,
     "metadata": {},
     "output_type": "execute_result"
    }
   ],
   "source": [
    "f1_score(y_test, y_predict, average = \"weighted\")\n"
   ]
  },
  {
   "cell_type": "code",
   "execution_count": 141,
   "metadata": {},
   "outputs": [
    {
     "data": {
      "text/plain": [
       "0.8350141965724779"
      ]
     },
     "execution_count": 141,
     "metadata": {},
     "output_type": "execute_result"
    }
   ],
   "source": [
    "precision_score(y_test, y_predict, average = \"weighted\")"
   ]
  },
  {
   "cell_type": "code",
   "execution_count": 142,
   "metadata": {},
   "outputs": [
    {
     "data": {
      "text/plain": [
       "0.8385999027710258"
      ]
     },
     "execution_count": 142,
     "metadata": {},
     "output_type": "execute_result"
    }
   ],
   "source": [
    "recall_score(y_test, y_predict, average = \"weighted\")"
   ]
  },
  {
   "cell_type": "code",
   "execution_count": 143,
   "metadata": {},
   "outputs": [],
   "source": [
    "fpr, tpr, threshold = metrics.roc_curve(y_test, y_predict)"
   ]
  },
  {
   "cell_type": "code",
   "execution_count": 149,
   "metadata": {},
   "outputs": [
    {
     "data": {
      "text/plain": [
       "[<matplotlib.lines.Line2D at 0x12560bf90>]"
      ]
     },
     "execution_count": 149,
     "metadata": {},
     "output_type": "execute_result"
    },
    {
     "data": {
      "image/png": "[encoded data removed]",
      "text/plain": [
       "<Figure size 432x288 with 1 Axes>"
      ]
     },
     "metadata": {
      "needs_background": "light"
     },
     "output_type": "display_data"
    }
   ],
   "source": [
    "plt.plot(fpr,tpr)"
   ]
  },
  {
   "cell_type": "code",
   "execution_count": 156,
   "metadata": {},
   "outputs": [],
   "source": [
    "auc = np.trapz(tpr,fpr)"
   ]
  },
  {
   "cell_type": "code",
   "execution_count": 152,
   "metadata": {},
   "outputs": [
    {
     "name": "stdout",
     "output_type": "stream",
     "text": [
      "0.7909086386450571\n"
     ]
    }
   ],
   "source": [
    "print(auc)"
   ]
  },
  {
   "cell_type": "code",
   "execution_count": 251,
   "metadata": {},
   "outputs": [],
   "source": [
    "svcclassifier = SVC(kernel='linear')"
   ]
  },
  {
   "cell_type": "code",
   "execution_count": 252,
   "metadata": {},
   "outputs": [
    {
     "name": "stderr",
     "output_type": "stream",
     "text": [
      "/Library/Frameworks/Python.framework/Versions/3.7/lib/python3.7/site-packages/sklearn/utils/validation.py:744: DataConversionWarning: A column-vector y was passed when a 1d array was expected. Please change the shape of y to (n_samples, ), for example using ravel().\n",
      "  y = column_or_1d(y, warn=True)\n"
     ]
    },
    {
     "data": {
      "text/plain": [
       "SVC(C=1.0, break_ties=False, cache_size=200, class_weight=None, coef0=0.0,\n",
       "    decision_function_shape='ovr', degree=3, gamma='scale', kernel='linear',\n",
       "    max_iter=-1, probability=False, random_state=None, shrinking=True,\n",
       "    tol=0.001, verbose=False)"
      ]
     },
     "execution_count": 252,
     "metadata": {},
     "output_type": "execute_result"
    }
   ],
   "source": [
    "svcclassifier.fit(X_train, y_train)"
   ]
  },
  {
   "cell_type": "code",
   "execution_count": 247,
   "metadata": {},
   "outputs": [],
   "source": [
    "y_predict=svcclassifier.predict(X_test)"
   ]
  },
  {
   "cell_type": "code",
   "execution_count": 248,
   "metadata": {},
   "outputs": [
    {
     "data": {
      "text/plain": [
       "array([[1420,    0],\n",
       "       [ 637,    0]])"
      ]
     },
     "execution_count": 248,
     "metadata": {},
     "output_type": "execute_result"
    }
   ],
   "source": [
    "confusion_matrix(y_test, y_predict)"
   ]
  },
  {
   "cell_type": "code",
   "execution_count": 249,
   "metadata": {},
   "outputs": [
    {
     "data": {
      "text/plain": [
       "0.690325717063685"
      ]
     },
     "execution_count": 249,
     "metadata": {},
     "output_type": "execute_result"
    }
   ],
   "source": [
    "accuracy_score(y_test, y_predict)"
   ]
  },
  {
   "cell_type": "code",
   "execution_count": 250,
   "metadata": {},
   "outputs": [
    {
     "name": "stderr",
     "output_type": "stream",
     "text": [
      "/Library/Frameworks/Python.framework/Versions/3.7/lib/python3.7/site-packages/sklearn/metrics/_classification.py:1268: UndefinedMetricWarning: Precision and F-score are ill-defined and being set to 0.0 in labels with no predicted samples. Use `zero_division` parameter to control this behavior.\n",
      "  _warn_prf(average, modifier, msg_start, len(result))\n"
     ]
    },
    {
     "data": {
      "text/plain": [
       "'              precision    recall  f1-score   support\\n\\n           0       0.69      1.00      0.82      1420\\n           1       0.00      0.00      0.00       637\\n\\n    accuracy                           0.69      2057\\n   macro avg       0.35      0.50      0.41      2057\\nweighted avg       0.48      0.69      0.56      2057\\n'"
      ]
     },
     "execution_count": 250,
     "metadata": {},
     "output_type": "execute_result"
    }
   ],
   "source": [
    "classification_report(y_test, y_predict)"
   ]
  },
  {
   "cell_type": "code",
   "execution_count": null,
   "metadata": {},
   "outputs": [],
   "source": []
  }
 ],
 "metadata": {
  "kernelspec": {
   "display_name": "Python 3",
   "language": "python",
   "name": "python3"
  },
  "language_info": {
   "codemirror_mode": {
    "name": "ipython",
    "version": 3
   },
   "file_extension": ".py",
   "mimetype": "text/x-python",
   "name": "python",
   "nbconvert_exporter": "python",
   "pygments_lexer": "ipython3",
   "version": "3.7.4"
  }
 },
 "nbformat": 4,
 "nbformat_minor": 2
}
